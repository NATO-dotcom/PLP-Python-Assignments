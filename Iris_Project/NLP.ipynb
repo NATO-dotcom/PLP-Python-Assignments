{
 "cells": [
  {
   "cell_type": "code",
   "execution_count": 2,
   "id": "9151a10e",
   "metadata": {},
   "outputs": [
    {
     "name": "stdout",
     "output_type": "stream",
     "text": [
      "Review: I bought the Acme Turbo Blender and it works great. Acme's customer service was helpful.\n",
      "Entities: [('Acme', 'ORG')]\n",
      "Review: Terrible battery life on the PowerMax headphones. Avoid this brand.\n",
      "Entities: [('PowerMax', 'ORG')]\n",
      "Review: Love the style of the Acme smartwatch. Great value.\n",
      "Entities: [('Acme', 'ORG')]\n",
      "Pattern matches: ['Acme', 'Acme Turbo', 'Turbo', 'Turbo Blender', 'Blender', 'Acme']\n",
      "Pattern matches: []\n",
      "Pattern matches: ['Acme']\n",
      "I bought the Acme Turbo Blender and it works great. Acme's customer service was helpful.\n",
      "Sentiment: positive\n",
      "---\n",
      "Terrible battery life on the PowerMax headphones. Avoid this brand.\n",
      "Sentiment: negative\n",
      "---\n",
      "Love the style of the Acme smartwatch. Great value.\n",
      "Sentiment: positive\n",
      "---\n"
     ]
    }
   ],
   "source": [
    "# spacy_ner_sentiment.py\n",
    "# Requirements: spacy\n",
    "# pip install spacy\n",
    "# python -m spacy download en_core_web_sm\n",
    "\n",
    "import spacy\n",
    "from spacy.matcher import Matcher\n",
    "\n",
    "nlp = spacy.load(\"en_core_web_sm\")  # lightweight model\n",
    "\n",
    "# Example reviews (replace with real Amazon review texts)\n",
    "reviews = [\n",
    "    \"I bought the Acme Turbo Blender and it works great. Acme's customer service was helpful.\",\n",
    "    \"Terrible battery life on the PowerMax headphones. Avoid this brand.\",\n",
    "    \"Love the style of the Acme smartwatch. Great value.\",\n",
    "]\n",
    "\n",
    "# Use spaCy NER to extract PRODUCT, ORG etc.\n",
    "for doc in nlp.pipe(reviews):\n",
    "    print(\"Review:\", doc.text)\n",
    "    ents = [(ent.text, ent.label_) for ent in doc.ents]\n",
    "    print(\"Entities:\", ents)\n",
    "\n",
    "# If you need to specifically capture product names/brands more reliably,\n",
    "# use a simple pattern-based matcher (example: capitalized Noun sequences)\n",
    "matcher = Matcher(nlp.vocab)\n",
    "pattern = [{\"IS_TITLE\": True, \"POS\": \"PROPN\"}, {\"IS_TITLE\": True, \"POS\": \"PROPN\", \"OP\": \"?\"}]\n",
    "matcher.add(\"BRAND_PRODUCT\", [pattern])\n",
    "\n",
    "for text in reviews:\n",
    "    doc = nlp(text)\n",
    "    matches = matcher(doc)\n",
    "    extracted = [doc[start:end].text for _, start, end in matches]\n",
    "    print(\"Pattern matches:\", extracted)\n",
    "\n",
    "# Rule-based sentiment (very simple example)\n",
    "positive_words = {\"great\", \"excellent\", \"love\", \"wonderful\", \"helpful\", \"awesome\", \"good\", \"value\"}\n",
    "negative_words = {\"terrible\", \"bad\", \"awful\", \"poor\", \"hate\", \"avoid\", \"disappointing\", \"worst\"}\n",
    "\n",
    "def simple_sentiment(text):\n",
    "    doc = nlp(text.lower())\n",
    "    pos = sum(1 for token in doc if token.lemma_ in positive_words)\n",
    "    neg = sum(1 for token in doc if token.lemma_ in negative_words)\n",
    "    if pos > neg:\n",
    "        return \"positive\"\n",
    "    elif neg > pos:\n",
    "        return \"negative\"\n",
    "    else:\n",
    "        return \"neutral\"\n",
    "\n",
    "for r in reviews:\n",
    "    print(r)\n",
    "    print(\"Sentiment:\", simple_sentiment(r))\n",
    "    print(\"---\")\n"
   ]
  },
  {
   "cell_type": "code",
   "execution_count": null,
   "id": "77af1de4",
   "metadata": {},
   "outputs": [],
   "source": []
  }
 ],
 "metadata": {
  "kernelspec": {
   "display_name": ".venv",
   "language": "python",
   "name": "python3"
  },
  "language_info": {
   "codemirror_mode": {
    "name": "ipython",
    "version": 3
   },
   "file_extension": ".py",
   "mimetype": "text/x-python",
   "name": "python",
   "nbconvert_exporter": "python",
   "pygments_lexer": "ipython3",
   "version": "3.12.3"
  }
 },
 "nbformat": 4,
 "nbformat_minor": 5
}
