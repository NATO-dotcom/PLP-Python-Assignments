{
 "cells": [
  {
   "cell_type": "code",
   "execution_count": 1,
   "id": "ba189f4d",
   "metadata": {},
   "outputs": [
    {
     "name": "stdout",
     "output_type": "stream",
     "text": [
      "Note: you may need to restart the kernel to use updated packages.\n",
      "Accuracy: 0.8947368421052632\n",
      "Precision (macro): 0.903030303030303\n",
      "Recall (macro): 0.8974358974358975\n",
      "\n",
      "Classification Report:\n",
      "               precision    recall  f1-score   support\n",
      "\n",
      "      setosa       1.00      1.00      1.00        12\n",
      "  versicolor       0.80      0.92      0.86        13\n",
      "   virginica       0.91      0.77      0.83        13\n",
      "\n",
      "    accuracy                           0.89        38\n",
      "   macro avg       0.90      0.90      0.90        38\n",
      "weighted avg       0.90      0.89      0.89        38\n",
      "\n"
     ]
    }
   ],
   "source": [
    "# iris_decision_tree.py\n",
    "# Requirements: scikit-learn, pandas, numpy\n",
    "# pip install scikit-learn pandas numpy\n",
    "\n",
    "# Ensure required packages are installed before imports (Jupyter magic)\n",
    "%pip install --quiet scikit-learn pandas numpy\n",
    "\n",
    "import numpy as np\n",
    "import pandas as pd\n",
    "from sklearn.datasets import load_iris\n",
    "from sklearn.model_selection import train_test_split\n",
    "from sklearn.tree import DecisionTreeClassifier\n",
    "from sklearn.metrics import accuracy_score, precision_score, recall_score, classification_report\n",
    "\n",
    "# Load dataset\n",
    "iris = load_iris(as_frame=True)\n",
    "df = iris.frame  # DataFrame with data + target\n",
    "X = df.drop(columns=['target'])\n",
    "y = df['target']\n",
    "\n",
    "# Simulate missing values (real datasets might have them) - comment out if not needed\n",
    "# X.loc[X.sample(frac=0.05, random_state=0).index, 'sepal length (cm)'] = np.nan\n",
    "\n",
    "# Preprocessing: simple imputation (mean) if there are missing values\n",
    "if X.isnull().any().any():\n",
    "    X = X.fillna(X.mean())\n",
    "\n",
    "# Train/test split\n",
    "X_train, X_test, y_train, y_test = train_test_split(X, y, test_size=0.25, random_state=42, stratify=y)\n",
    "\n",
    "# Train Decision Tree\n",
    "clf = DecisionTreeClassifier(random_state=42)\n",
    "clf.fit(X_train, y_train)\n",
    "\n",
    "# Predict\n",
    "y_pred = clf.predict(X_test)\n",
    "\n",
    "# Evaluation\n",
    "acc = accuracy_score(y_test, y_pred)\n",
    "prec_macro = precision_score(y_test, y_pred, average='macro')\n",
    "recall_macro = recall_score(y_test, y_pred, average='macro')\n",
    "\n",
    "print(\"Accuracy:\", acc)\n",
    "print(\"Precision (macro):\", prec_macro)\n",
    "print(\"Recall (macro):\", recall_macro)\n",
    "print(\"\\nClassification Report:\\n\", classification_report(y_test, y_pred, target_names=iris.target_names))\n"
   ]
  }
 ],
 "metadata": {
  "kernelspec": {
   "display_name": ".venv",
   "language": "python",
   "name": "python3"
  },
  "language_info": {
   "codemirror_mode": {
    "name": "ipython",
    "version": 3
   },
   "file_extension": ".py",
   "mimetype": "text/x-python",
   "name": "python",
   "nbconvert_exporter": "python",
   "pygments_lexer": "ipython3",
   "version": "3.12.3"
  }
 },
 "nbformat": 4,
 "nbformat_minor": 5
}
